{
 "cells": [
  {
   "cell_type": "markdown",
   "metadata": {},
   "source": [
    "## Machine Learning\n",
    "### An Approach For Global Terrosim Using Machine Learning\n"
   ]
  },
  {
   "cell_type": "markdown",
   "metadata": {},
   "source": [
    "### DATA PREPROCESSING :\n",
    "1.IMPORTING OF LIBRARIES:"
   ]
  },
  {
   "cell_type": "code",
   "execution_count": 1,
   "metadata": {},
   "outputs": [],
   "source": [
    "# Importing the libraries\n",
    "import pandas as pd   ## to work with csv files \n",
    "import numpy as np ## to work with array\n",
    "import matplotlib.pyplot as plt ## for ploting graphs \n",
    "import seaborn as sns ##  for ploting graphs\n",
    "import warnings\n",
    "warnings.filterwarnings('ignore')"
   ]
  },
  {
   "cell_type": "markdown",
   "metadata": {},
   "source": [
    "2.READING OF DATASET:"
   ]
  },
  {
   "cell_type": "code",
   "execution_count": 2,
   "metadata": {},
   "outputs": [
    {
     "data": {
      "text/html": [
       "<div>\n",
       "<style scoped>\n",
       "    .dataframe tbody tr th:only-of-type {\n",
       "        vertical-align: middle;\n",
       "    }\n",
       "\n",
       "    .dataframe tbody tr th {\n",
       "        vertical-align: top;\n",
       "    }\n",
       "\n",
       "    .dataframe thead th {\n",
       "        text-align: right;\n",
       "    }\n",
       "</style>\n",
       "<table border=\"1\" class=\"dataframe\">\n",
       "  <thead>\n",
       "    <tr style=\"text-align: right;\">\n",
       "      <th></th>\n",
       "      <th>eventid</th>\n",
       "      <th>iyear</th>\n",
       "      <th>imonth</th>\n",
       "      <th>iday</th>\n",
       "      <th>extended</th>\n",
       "      <th>country</th>\n",
       "      <th>country_txt</th>\n",
       "      <th>region</th>\n",
       "      <th>region_txt</th>\n",
       "      <th>provstate</th>\n",
       "      <th>...</th>\n",
       "      <th>nwound</th>\n",
       "      <th>nwoundus</th>\n",
       "      <th>nwoundte</th>\n",
       "      <th>property</th>\n",
       "      <th>ishostkid</th>\n",
       "      <th>dbsource</th>\n",
       "      <th>INT_LOG</th>\n",
       "      <th>INT_IDEO</th>\n",
       "      <th>INT_MISC</th>\n",
       "      <th>INT_ANY</th>\n",
       "    </tr>\n",
       "  </thead>\n",
       "  <tbody>\n",
       "    <tr>\n",
       "      <th>0</th>\n",
       "      <td>197000000001</td>\n",
       "      <td>1970</td>\n",
       "      <td>7</td>\n",
       "      <td>2</td>\n",
       "      <td>0</td>\n",
       "      <td>58</td>\n",
       "      <td>Dominican Republic</td>\n",
       "      <td>2</td>\n",
       "      <td>Central America &amp; Caribbean</td>\n",
       "      <td>NaN</td>\n",
       "      <td>...</td>\n",
       "      <td>0.0</td>\n",
       "      <td>NaN</td>\n",
       "      <td>NaN</td>\n",
       "      <td>0</td>\n",
       "      <td>0.0</td>\n",
       "      <td>PGIS</td>\n",
       "      <td>0</td>\n",
       "      <td>0</td>\n",
       "      <td>0</td>\n",
       "      <td>0</td>\n",
       "    </tr>\n",
       "    <tr>\n",
       "      <th>1</th>\n",
       "      <td>197000000002</td>\n",
       "      <td>1970</td>\n",
       "      <td>0</td>\n",
       "      <td>0</td>\n",
       "      <td>0</td>\n",
       "      <td>130</td>\n",
       "      <td>Mexico</td>\n",
       "      <td>1</td>\n",
       "      <td>North America</td>\n",
       "      <td>Federal</td>\n",
       "      <td>...</td>\n",
       "      <td>0.0</td>\n",
       "      <td>NaN</td>\n",
       "      <td>NaN</td>\n",
       "      <td>0</td>\n",
       "      <td>1.0</td>\n",
       "      <td>PGIS</td>\n",
       "      <td>0</td>\n",
       "      <td>1</td>\n",
       "      <td>1</td>\n",
       "      <td>1</td>\n",
       "    </tr>\n",
       "    <tr>\n",
       "      <th>2</th>\n",
       "      <td>197001000001</td>\n",
       "      <td>1970</td>\n",
       "      <td>1</td>\n",
       "      <td>0</td>\n",
       "      <td>0</td>\n",
       "      <td>160</td>\n",
       "      <td>Philippines</td>\n",
       "      <td>5</td>\n",
       "      <td>Southeast Asia</td>\n",
       "      <td>Tarlac</td>\n",
       "      <td>...</td>\n",
       "      <td>0.0</td>\n",
       "      <td>NaN</td>\n",
       "      <td>NaN</td>\n",
       "      <td>0</td>\n",
       "      <td>0.0</td>\n",
       "      <td>PGIS</td>\n",
       "      <td>-9</td>\n",
       "      <td>-9</td>\n",
       "      <td>1</td>\n",
       "      <td>1</td>\n",
       "    </tr>\n",
       "    <tr>\n",
       "      <th>3</th>\n",
       "      <td>197001000002</td>\n",
       "      <td>1970</td>\n",
       "      <td>1</td>\n",
       "      <td>0</td>\n",
       "      <td>0</td>\n",
       "      <td>78</td>\n",
       "      <td>Greece</td>\n",
       "      <td>8</td>\n",
       "      <td>Western Europe</td>\n",
       "      <td>Attica</td>\n",
       "      <td>...</td>\n",
       "      <td>NaN</td>\n",
       "      <td>NaN</td>\n",
       "      <td>NaN</td>\n",
       "      <td>1</td>\n",
       "      <td>0.0</td>\n",
       "      <td>PGIS</td>\n",
       "      <td>-9</td>\n",
       "      <td>-9</td>\n",
       "      <td>1</td>\n",
       "      <td>1</td>\n",
       "    </tr>\n",
       "    <tr>\n",
       "      <th>4</th>\n",
       "      <td>197001000003</td>\n",
       "      <td>1970</td>\n",
       "      <td>1</td>\n",
       "      <td>0</td>\n",
       "      <td>0</td>\n",
       "      <td>101</td>\n",
       "      <td>Japan</td>\n",
       "      <td>4</td>\n",
       "      <td>East Asia</td>\n",
       "      <td>Fukouka</td>\n",
       "      <td>...</td>\n",
       "      <td>NaN</td>\n",
       "      <td>NaN</td>\n",
       "      <td>NaN</td>\n",
       "      <td>1</td>\n",
       "      <td>0.0</td>\n",
       "      <td>PGIS</td>\n",
       "      <td>-9</td>\n",
       "      <td>-9</td>\n",
       "      <td>1</td>\n",
       "      <td>1</td>\n",
       "    </tr>\n",
       "    <tr>\n",
       "      <th>...</th>\n",
       "      <td>...</td>\n",
       "      <td>...</td>\n",
       "      <td>...</td>\n",
       "      <td>...</td>\n",
       "      <td>...</td>\n",
       "      <td>...</td>\n",
       "      <td>...</td>\n",
       "      <td>...</td>\n",
       "      <td>...</td>\n",
       "      <td>...</td>\n",
       "      <td>...</td>\n",
       "      <td>...</td>\n",
       "      <td>...</td>\n",
       "      <td>...</td>\n",
       "      <td>...</td>\n",
       "      <td>...</td>\n",
       "      <td>...</td>\n",
       "      <td>...</td>\n",
       "      <td>...</td>\n",
       "      <td>...</td>\n",
       "      <td>...</td>\n",
       "    </tr>\n",
       "    <tr>\n",
       "      <th>181686</th>\n",
       "      <td>201712310022</td>\n",
       "      <td>2017</td>\n",
       "      <td>12</td>\n",
       "      <td>31</td>\n",
       "      <td>0</td>\n",
       "      <td>182</td>\n",
       "      <td>Somalia</td>\n",
       "      <td>11</td>\n",
       "      <td>Sub-Saharan Africa</td>\n",
       "      <td>Middle Shebelle</td>\n",
       "      <td>...</td>\n",
       "      <td>2.0</td>\n",
       "      <td>0.0</td>\n",
       "      <td>0.0</td>\n",
       "      <td>-9</td>\n",
       "      <td>0.0</td>\n",
       "      <td>START Primary Collection</td>\n",
       "      <td>0</td>\n",
       "      <td>0</td>\n",
       "      <td>0</td>\n",
       "      <td>0</td>\n",
       "    </tr>\n",
       "    <tr>\n",
       "      <th>181687</th>\n",
       "      <td>201712310029</td>\n",
       "      <td>2017</td>\n",
       "      <td>12</td>\n",
       "      <td>31</td>\n",
       "      <td>0</td>\n",
       "      <td>200</td>\n",
       "      <td>Syria</td>\n",
       "      <td>10</td>\n",
       "      <td>Middle East &amp; North Africa</td>\n",
       "      <td>Lattakia</td>\n",
       "      <td>...</td>\n",
       "      <td>7.0</td>\n",
       "      <td>0.0</td>\n",
       "      <td>0.0</td>\n",
       "      <td>1</td>\n",
       "      <td>0.0</td>\n",
       "      <td>START Primary Collection</td>\n",
       "      <td>-9</td>\n",
       "      <td>-9</td>\n",
       "      <td>1</td>\n",
       "      <td>1</td>\n",
       "    </tr>\n",
       "    <tr>\n",
       "      <th>181688</th>\n",
       "      <td>201712310030</td>\n",
       "      <td>2017</td>\n",
       "      <td>12</td>\n",
       "      <td>31</td>\n",
       "      <td>0</td>\n",
       "      <td>160</td>\n",
       "      <td>Philippines</td>\n",
       "      <td>5</td>\n",
       "      <td>Southeast Asia</td>\n",
       "      <td>Maguindanao</td>\n",
       "      <td>...</td>\n",
       "      <td>0.0</td>\n",
       "      <td>0.0</td>\n",
       "      <td>0.0</td>\n",
       "      <td>1</td>\n",
       "      <td>0.0</td>\n",
       "      <td>START Primary Collection</td>\n",
       "      <td>0</td>\n",
       "      <td>0</td>\n",
       "      <td>0</td>\n",
       "      <td>0</td>\n",
       "    </tr>\n",
       "    <tr>\n",
       "      <th>181689</th>\n",
       "      <td>201712310031</td>\n",
       "      <td>2017</td>\n",
       "      <td>12</td>\n",
       "      <td>31</td>\n",
       "      <td>0</td>\n",
       "      <td>92</td>\n",
       "      <td>India</td>\n",
       "      <td>6</td>\n",
       "      <td>South Asia</td>\n",
       "      <td>Manipur</td>\n",
       "      <td>...</td>\n",
       "      <td>0.0</td>\n",
       "      <td>0.0</td>\n",
       "      <td>0.0</td>\n",
       "      <td>-9</td>\n",
       "      <td>0.0</td>\n",
       "      <td>START Primary Collection</td>\n",
       "      <td>-9</td>\n",
       "      <td>-9</td>\n",
       "      <td>0</td>\n",
       "      <td>-9</td>\n",
       "    </tr>\n",
       "    <tr>\n",
       "      <th>181690</th>\n",
       "      <td>201712310032</td>\n",
       "      <td>2017</td>\n",
       "      <td>12</td>\n",
       "      <td>31</td>\n",
       "      <td>0</td>\n",
       "      <td>160</td>\n",
       "      <td>Philippines</td>\n",
       "      <td>5</td>\n",
       "      <td>Southeast Asia</td>\n",
       "      <td>Maguindanao</td>\n",
       "      <td>...</td>\n",
       "      <td>0.0</td>\n",
       "      <td>0.0</td>\n",
       "      <td>0.0</td>\n",
       "      <td>0</td>\n",
       "      <td>0.0</td>\n",
       "      <td>START Primary Collection</td>\n",
       "      <td>-9</td>\n",
       "      <td>-9</td>\n",
       "      <td>0</td>\n",
       "      <td>-9</td>\n",
       "    </tr>\n",
       "  </tbody>\n",
       "</table>\n",
       "<p>181691 rows × 57 columns</p>\n",
       "</div>"
      ],
      "text/plain": [
       "             eventid  iyear  imonth  iday  extended  country  \\\n",
       "0       197000000001   1970       7     2         0       58   \n",
       "1       197000000002   1970       0     0         0      130   \n",
       "2       197001000001   1970       1     0         0      160   \n",
       "3       197001000002   1970       1     0         0       78   \n",
       "4       197001000003   1970       1     0         0      101   \n",
       "...              ...    ...     ...   ...       ...      ...   \n",
       "181686  201712310022   2017      12    31         0      182   \n",
       "181687  201712310029   2017      12    31         0      200   \n",
       "181688  201712310030   2017      12    31         0      160   \n",
       "181689  201712310031   2017      12    31         0       92   \n",
       "181690  201712310032   2017      12    31         0      160   \n",
       "\n",
       "               country_txt  region                   region_txt  \\\n",
       "0       Dominican Republic       2  Central America & Caribbean   \n",
       "1                   Mexico       1                North America   \n",
       "2              Philippines       5               Southeast Asia   \n",
       "3                   Greece       8               Western Europe   \n",
       "4                    Japan       4                    East Asia   \n",
       "...                    ...     ...                          ...   \n",
       "181686             Somalia      11           Sub-Saharan Africa   \n",
       "181687               Syria      10   Middle East & North Africa   \n",
       "181688         Philippines       5               Southeast Asia   \n",
       "181689               India       6                   South Asia   \n",
       "181690         Philippines       5               Southeast Asia   \n",
       "\n",
       "              provstate  ... nwound  nwoundus  nwoundte  property  ishostkid  \\\n",
       "0                   NaN  ...    0.0       NaN       NaN         0        0.0   \n",
       "1               Federal  ...    0.0       NaN       NaN         0        1.0   \n",
       "2                Tarlac  ...    0.0       NaN       NaN         0        0.0   \n",
       "3                Attica  ...    NaN       NaN       NaN         1        0.0   \n",
       "4               Fukouka  ...    NaN       NaN       NaN         1        0.0   \n",
       "...                 ...  ...    ...       ...       ...       ...        ...   \n",
       "181686  Middle Shebelle  ...    2.0       0.0       0.0        -9        0.0   \n",
       "181687         Lattakia  ...    7.0       0.0       0.0         1        0.0   \n",
       "181688      Maguindanao  ...    0.0       0.0       0.0         1        0.0   \n",
       "181689          Manipur  ...    0.0       0.0       0.0        -9        0.0   \n",
       "181690      Maguindanao  ...    0.0       0.0       0.0         0        0.0   \n",
       "\n",
       "                        dbsource  INT_LOG  INT_IDEO  INT_MISC  INT_ANY  \n",
       "0                           PGIS        0         0         0        0  \n",
       "1                           PGIS        0         1         1        1  \n",
       "2                           PGIS       -9        -9         1        1  \n",
       "3                           PGIS       -9        -9         1        1  \n",
       "4                           PGIS       -9        -9         1        1  \n",
       "...                          ...      ...       ...       ...      ...  \n",
       "181686  START Primary Collection        0         0         0        0  \n",
       "181687  START Primary Collection       -9        -9         1        1  \n",
       "181688  START Primary Collection        0         0         0        0  \n",
       "181689  START Primary Collection       -9        -9         0       -9  \n",
       "181690  START Primary Collection       -9        -9         0       -9  \n",
       "\n",
       "[181691 rows x 57 columns]"
      ]
     },
     "execution_count": 2,
     "metadata": {},
     "output_type": "execute_result"
    }
   ],
   "source": [
    "# reading dataset\n",
    "data=pd.read_csv(\"gtd_data.csv\")\n",
    "data"
   ]
  },
  {
   "cell_type": "markdown",
   "metadata": {},
   "source": [
    "3.SHAPE OF DATA"
   ]
  },
  {
   "cell_type": "code",
   "execution_count": 3,
   "metadata": {},
   "outputs": [
    {
     "data": {
      "text/plain": [
       "(181691, 57)"
      ]
     },
     "execution_count": 3,
     "metadata": {},
     "output_type": "execute_result"
    }
   ],
   "source": [
    "#shape of data\n",
    "data.shape"
   ]
  },
  {
   "cell_type": "markdown",
   "metadata": {},
   "source": [
    "4.HANDLING MISSING VALUES"
   ]
  },
  {
   "cell_type": "code",
   "execution_count": 4,
   "metadata": {},
   "outputs": [
    {
     "name": "stdout",
     "output_type": "stream",
     "text": [
      "<class 'pandas.core.frame.DataFrame'>\n",
      "RangeIndex: 181691 entries, 0 to 181690\n",
      "Data columns (total 57 columns):\n",
      " #   Column            Non-Null Count   Dtype  \n",
      "---  ------            --------------   -----  \n",
      " 0   eventid           181691 non-null  int64  \n",
      " 1   iyear             181691 non-null  int64  \n",
      " 2   imonth            181691 non-null  int64  \n",
      " 3   iday              181691 non-null  int64  \n",
      " 4   extended          181691 non-null  int64  \n",
      " 5   country           181691 non-null  int64  \n",
      " 6   country_txt       181691 non-null  object \n",
      " 7   region            181691 non-null  int64  \n",
      " 8   region_txt        181691 non-null  object \n",
      " 9   provstate         181270 non-null  object \n",
      " 10  city              181257 non-null  object \n",
      " 11  latitude          177135 non-null  float64\n",
      " 12  longitude         177134 non-null  float64\n",
      " 13  specificity       181685 non-null  float64\n",
      " 14  vicinity          181691 non-null  int64  \n",
      " 15  summary           115562 non-null  object \n",
      " 16  crit1             181691 non-null  int64  \n",
      " 17  crit2             181691 non-null  int64  \n",
      " 18  crit3             181691 non-null  int64  \n",
      " 19  doubtterr         181690 non-null  float64\n",
      " 20  multiple          181690 non-null  float64\n",
      " 21  success           181691 non-null  int64  \n",
      " 22  suicide           181691 non-null  int64  \n",
      " 23  attacktype1       181691 non-null  int64  \n",
      " 24  attacktype1_txt   181691 non-null  object \n",
      " 25  targtype1         181691 non-null  int64  \n",
      " 26  targtype1_txt     181691 non-null  object \n",
      " 27  targsubtype1      171318 non-null  float64\n",
      " 28  targsubtype1_txt  171318 non-null  object \n",
      " 29  corp1             139141 non-null  object \n",
      " 30  target1           181055 non-null  object \n",
      " 31  natlty1           180132 non-null  float64\n",
      " 32  natlty1_txt       180132 non-null  object \n",
      " 33  gname             181691 non-null  object \n",
      " 34  guncertain1       181311 non-null  float64\n",
      " 35  individual        181691 non-null  int64  \n",
      " 36  nperps            110576 non-null  float64\n",
      " 37  nperpcap          112202 non-null  float64\n",
      " 38  claimed           115571 non-null  float64\n",
      " 39  weaptype1         181691 non-null  int64  \n",
      " 40  weaptype1_txt     181691 non-null  object \n",
      " 41  weapsubtype1      160923 non-null  float64\n",
      " 42  weapsubtype1_txt  160923 non-null  object \n",
      " 43  weapdetail        114021 non-null  object \n",
      " 44  nkill             171378 non-null  float64\n",
      " 45  nkillus           117245 non-null  float64\n",
      " 46  nkillter          114733 non-null  float64\n",
      " 47  nwound            165380 non-null  float64\n",
      " 48  nwoundus          116989 non-null  float64\n",
      " 49  nwoundte          112548 non-null  float64\n",
      " 50  property          181691 non-null  int64  \n",
      " 51  ishostkid         181513 non-null  float64\n",
      " 52  dbsource          181691 non-null  object \n",
      " 53  INT_LOG           181691 non-null  int64  \n",
      " 54  INT_IDEO          181691 non-null  int64  \n",
      " 55  INT_MISC          181691 non-null  int64  \n",
      " 56  INT_ANY           181691 non-null  int64  \n",
      "dtypes: float64(19), int64(22), object(16)\n",
      "memory usage: 79.0+ MB\n"
     ]
    }
   ],
   "source": [
    "#get info regarding all null entries\n",
    "data.info()"
   ]
  },
  {
   "cell_type": "code",
   "execution_count": 5,
   "metadata": {},
   "outputs": [
    {
     "data": {
      "text/plain": [
       "eventid                 0\n",
       "iyear                   0\n",
       "imonth                  0\n",
       "iday                    0\n",
       "extended                0\n",
       "country                 0\n",
       "country_txt             0\n",
       "region                  0\n",
       "region_txt              0\n",
       "provstate             421\n",
       "city                  434\n",
       "latitude             4556\n",
       "longitude            4557\n",
       "specificity             6\n",
       "vicinity                0\n",
       "summary             66129\n",
       "crit1                   0\n",
       "crit2                   0\n",
       "crit3                   0\n",
       "doubtterr               1\n",
       "multiple                1\n",
       "success                 0\n",
       "suicide                 0\n",
       "attacktype1             0\n",
       "attacktype1_txt         0\n",
       "targtype1               0\n",
       "targtype1_txt           0\n",
       "targsubtype1        10373\n",
       "targsubtype1_txt    10373\n",
       "corp1               42550\n",
       "target1               636\n",
       "natlty1              1559\n",
       "natlty1_txt          1559\n",
       "gname                   0\n",
       "guncertain1           380\n",
       "individual              0\n",
       "nperps              71115\n",
       "nperpcap            69489\n",
       "claimed             66120\n",
       "weaptype1               0\n",
       "weaptype1_txt           0\n",
       "weapsubtype1        20768\n",
       "weapsubtype1_txt    20768\n",
       "weapdetail          67670\n",
       "nkill               10313\n",
       "nkillus             64446\n",
       "nkillter            66958\n",
       "nwound              16311\n",
       "nwoundus            64702\n",
       "nwoundte            69143\n",
       "property                0\n",
       "ishostkid             178\n",
       "dbsource                0\n",
       "INT_LOG                 0\n",
       "INT_IDEO                0\n",
       "INT_MISC                0\n",
       "INT_ANY                 0\n",
       "dtype: int64"
      ]
     },
     "execution_count": 5,
     "metadata": {},
     "output_type": "execute_result"
    }
   ],
   "source": [
    "#checking for null values\n",
    "data.isnull().sum()"
   ]
  },
  {
   "cell_type": "code",
   "execution_count": 6,
   "metadata": {},
   "outputs": [],
   "source": [
    "modifieddata = data.dropna()"
   ]
  },
  {
   "cell_type": "code",
   "execution_count": 7,
   "metadata": {},
   "outputs": [
    {
     "data": {
      "text/plain": [
       "eventid             0\n",
       "iyear               0\n",
       "imonth              0\n",
       "iday                0\n",
       "extended            0\n",
       "country             0\n",
       "country_txt         0\n",
       "region              0\n",
       "region_txt          0\n",
       "provstate           0\n",
       "city                0\n",
       "latitude            0\n",
       "longitude           0\n",
       "specificity         0\n",
       "vicinity            0\n",
       "summary             0\n",
       "crit1               0\n",
       "crit2               0\n",
       "crit3               0\n",
       "doubtterr           0\n",
       "multiple            0\n",
       "success             0\n",
       "suicide             0\n",
       "attacktype1         0\n",
       "attacktype1_txt     0\n",
       "targtype1           0\n",
       "targtype1_txt       0\n",
       "targsubtype1        0\n",
       "targsubtype1_txt    0\n",
       "corp1               0\n",
       "target1             0\n",
       "natlty1             0\n",
       "natlty1_txt         0\n",
       "gname               0\n",
       "guncertain1         0\n",
       "individual          0\n",
       "nperps              0\n",
       "nperpcap            0\n",
       "claimed             0\n",
       "weaptype1           0\n",
       "weaptype1_txt       0\n",
       "weapsubtype1        0\n",
       "weapsubtype1_txt    0\n",
       "weapdetail          0\n",
       "nkill               0\n",
       "nkillus             0\n",
       "nkillter            0\n",
       "nwound              0\n",
       "nwoundus            0\n",
       "nwoundte            0\n",
       "property            0\n",
       "ishostkid           0\n",
       "dbsource            0\n",
       "INT_LOG             0\n",
       "INT_IDEO            0\n",
       "INT_MISC            0\n",
       "INT_ANY             0\n",
       "dtype: int64"
      ]
     },
     "execution_count": 7,
     "metadata": {},
     "output_type": "execute_result"
    }
   ],
   "source": [
    "modifieddata.isnull().sum()"
   ]
  },
  {
   "cell_type": "code",
   "execution_count": 8,
   "metadata": {},
   "outputs": [],
   "source": [
    "modifieddata.to_csv('modifieddata.csv',index=False)"
   ]
  },
  {
   "cell_type": "markdown",
   "metadata": {},
   "source": [
    "4.COUNT THE COLUMN"
   ]
  },
  {
   "cell_type": "code",
   "execution_count": 9,
   "metadata": {},
   "outputs": [
    {
     "data": {
      "text/plain": [
       "vicinity            1\n",
       "imonth              1\n",
       "country             1\n",
       "crit3               1\n",
       "gname               1\n",
       "weaptype1           1\n",
       "INT_MISC            1\n",
       "specificity         1\n",
       "region              1\n",
       "weapdetail          1\n",
       "eventid             1\n",
       "nwoundus            1\n",
       "iday                1\n",
       "multiple            1\n",
       "iyear               1\n",
       "success             1\n",
       "natlty1_txt         1\n",
       "claimed             1\n",
       "provstate           1\n",
       "targtype1           1\n",
       "summary             1\n",
       "extended            1\n",
       "nwound              1\n",
       "targsubtype1_txt    1\n",
       "natlty1             1\n",
       "crit1               1\n",
       "dbsource            1\n",
       "corp1               1\n",
       "INT_ANY             1\n",
       "nkillter            1\n",
       "INT_IDEO            1\n",
       "longitude           1\n",
       "crit2               1\n",
       "weapsubtype1_txt    1\n",
       "nkillus             1\n",
       "country_txt         1\n",
       "city                1\n",
       "nperps              1\n",
       "ishostkid           1\n",
       "individual          1\n",
       "attacktype1         1\n",
       "nkill               1\n",
       "nperpcap            1\n",
       "property            1\n",
       "doubtterr           1\n",
       "targtype1_txt       1\n",
       "latitude            1\n",
       "weaptype1_txt       1\n",
       "attacktype1_txt     1\n",
       "guncertain1         1\n",
       "suicide             1\n",
       "region_txt          1\n",
       "target1             1\n",
       "weapsubtype1        1\n",
       "nwoundte            1\n",
       "INT_LOG             1\n",
       "targsubtype1        1\n",
       "dtype: int64"
      ]
     },
     "execution_count": 9,
     "metadata": {},
     "output_type": "execute_result"
    }
   ],
   "source": [
    "# count the column\n",
    "data.columns.value_counts()"
   ]
  },
  {
   "cell_type": "markdown",
   "metadata": {},
   "source": [
    "5.DUPLICATE DATA"
   ]
  },
  {
   "cell_type": "code",
   "execution_count": 10,
   "metadata": {},
   "outputs": [
    {
     "data": {
      "text/html": [
       "<div>\n",
       "<style scoped>\n",
       "    .dataframe tbody tr th:only-of-type {\n",
       "        vertical-align: middle;\n",
       "    }\n",
       "\n",
       "    .dataframe tbody tr th {\n",
       "        vertical-align: top;\n",
       "    }\n",
       "\n",
       "    .dataframe thead th {\n",
       "        text-align: right;\n",
       "    }\n",
       "</style>\n",
       "<table border=\"1\" class=\"dataframe\">\n",
       "  <thead>\n",
       "    <tr style=\"text-align: right;\">\n",
       "      <th></th>\n",
       "      <th>eventid</th>\n",
       "      <th>iyear</th>\n",
       "      <th>imonth</th>\n",
       "      <th>iday</th>\n",
       "      <th>extended</th>\n",
       "      <th>country</th>\n",
       "      <th>country_txt</th>\n",
       "      <th>region</th>\n",
       "      <th>region_txt</th>\n",
       "      <th>provstate</th>\n",
       "      <th>...</th>\n",
       "      <th>nwound</th>\n",
       "      <th>nwoundus</th>\n",
       "      <th>nwoundte</th>\n",
       "      <th>property</th>\n",
       "      <th>ishostkid</th>\n",
       "      <th>dbsource</th>\n",
       "      <th>INT_LOG</th>\n",
       "      <th>INT_IDEO</th>\n",
       "      <th>INT_MISC</th>\n",
       "      <th>INT_ANY</th>\n",
       "    </tr>\n",
       "  </thead>\n",
       "  <tbody>\n",
       "  </tbody>\n",
       "</table>\n",
       "<p>0 rows × 57 columns</p>\n",
       "</div>"
      ],
      "text/plain": [
       "Empty DataFrame\n",
       "Columns: [eventid, iyear, imonth, iday, extended, country, country_txt, region, region_txt, provstate, city, latitude, longitude, specificity, vicinity, summary, crit1, crit2, crit3, doubtterr, multiple, success, suicide, attacktype1, attacktype1_txt, targtype1, targtype1_txt, targsubtype1, targsubtype1_txt, corp1, target1, natlty1, natlty1_txt, gname, guncertain1, individual, nperps, nperpcap, claimed, weaptype1, weaptype1_txt, weapsubtype1, weapsubtype1_txt, weapdetail, nkill, nkillus, nkillter, nwound, nwoundus, nwoundte, property, ishostkid, dbsource, INT_LOG, INT_IDEO, INT_MISC, INT_ANY]\n",
       "Index: []\n",
       "\n",
       "[0 rows x 57 columns]"
      ]
     },
     "execution_count": 10,
     "metadata": {},
     "output_type": "execute_result"
    }
   ],
   "source": [
    "# duplicate data\n",
    "data[data.duplicated()]"
   ]
  },
  {
   "cell_type": "markdown",
   "metadata": {},
   "source": [
    "6.DESCRIBE DATA"
   ]
  },
  {
   "cell_type": "code",
   "execution_count": 11,
   "metadata": {
    "scrolled": true
   },
   "outputs": [
    {
     "data": {
      "text/html": [
       "<div>\n",
       "<style scoped>\n",
       "    .dataframe tbody tr th:only-of-type {\n",
       "        vertical-align: middle;\n",
       "    }\n",
       "\n",
       "    .dataframe tbody tr th {\n",
       "        vertical-align: top;\n",
       "    }\n",
       "\n",
       "    .dataframe thead th {\n",
       "        text-align: right;\n",
       "    }\n",
       "</style>\n",
       "<table border=\"1\" class=\"dataframe\">\n",
       "  <thead>\n",
       "    <tr style=\"text-align: right;\">\n",
       "      <th></th>\n",
       "      <th>eventid</th>\n",
       "      <th>iyear</th>\n",
       "      <th>imonth</th>\n",
       "      <th>iday</th>\n",
       "      <th>extended</th>\n",
       "      <th>country</th>\n",
       "      <th>region</th>\n",
       "      <th>latitude</th>\n",
       "      <th>longitude</th>\n",
       "      <th>specificity</th>\n",
       "      <th>...</th>\n",
       "      <th>nkillter</th>\n",
       "      <th>nwound</th>\n",
       "      <th>nwoundus</th>\n",
       "      <th>nwoundte</th>\n",
       "      <th>property</th>\n",
       "      <th>ishostkid</th>\n",
       "      <th>INT_LOG</th>\n",
       "      <th>INT_IDEO</th>\n",
       "      <th>INT_MISC</th>\n",
       "      <th>INT_ANY</th>\n",
       "    </tr>\n",
       "  </thead>\n",
       "  <tbody>\n",
       "    <tr>\n",
       "      <th>count</th>\n",
       "      <td>1.816910e+05</td>\n",
       "      <td>181691.000000</td>\n",
       "      <td>181691.000000</td>\n",
       "      <td>181691.000000</td>\n",
       "      <td>181691.000000</td>\n",
       "      <td>181691.000000</td>\n",
       "      <td>181691.000000</td>\n",
       "      <td>177135.000000</td>\n",
       "      <td>1.771340e+05</td>\n",
       "      <td>181685.000000</td>\n",
       "      <td>...</td>\n",
       "      <td>114733.000000</td>\n",
       "      <td>165380.000000</td>\n",
       "      <td>116989.000000</td>\n",
       "      <td>112548.000000</td>\n",
       "      <td>181691.000000</td>\n",
       "      <td>181513.000000</td>\n",
       "      <td>181691.000000</td>\n",
       "      <td>181691.000000</td>\n",
       "      <td>181691.000000</td>\n",
       "      <td>181691.000000</td>\n",
       "    </tr>\n",
       "    <tr>\n",
       "      <th>mean</th>\n",
       "      <td>2.002705e+11</td>\n",
       "      <td>2002.638997</td>\n",
       "      <td>6.467277</td>\n",
       "      <td>15.505644</td>\n",
       "      <td>0.045346</td>\n",
       "      <td>131.968501</td>\n",
       "      <td>7.160938</td>\n",
       "      <td>23.498343</td>\n",
       "      <td>-4.586957e+02</td>\n",
       "      <td>1.451452</td>\n",
       "      <td>...</td>\n",
       "      <td>0.508058</td>\n",
       "      <td>3.167668</td>\n",
       "      <td>0.038944</td>\n",
       "      <td>0.107163</td>\n",
       "      <td>-0.544556</td>\n",
       "      <td>0.059054</td>\n",
       "      <td>-4.543731</td>\n",
       "      <td>-4.464398</td>\n",
       "      <td>0.090010</td>\n",
       "      <td>-3.945952</td>\n",
       "    </tr>\n",
       "    <tr>\n",
       "      <th>std</th>\n",
       "      <td>1.325957e+09</td>\n",
       "      <td>13.259430</td>\n",
       "      <td>3.388303</td>\n",
       "      <td>8.814045</td>\n",
       "      <td>0.208063</td>\n",
       "      <td>112.414535</td>\n",
       "      <td>2.933408</td>\n",
       "      <td>18.569242</td>\n",
       "      <td>2.047790e+05</td>\n",
       "      <td>0.995430</td>\n",
       "      <td>...</td>\n",
       "      <td>4.199937</td>\n",
       "      <td>35.949392</td>\n",
       "      <td>3.057361</td>\n",
       "      <td>1.488881</td>\n",
       "      <td>3.122889</td>\n",
       "      <td>0.461244</td>\n",
       "      <td>4.543547</td>\n",
       "      <td>4.637152</td>\n",
       "      <td>0.568457</td>\n",
       "      <td>4.691325</td>\n",
       "    </tr>\n",
       "    <tr>\n",
       "      <th>min</th>\n",
       "      <td>1.970000e+11</td>\n",
       "      <td>1970.000000</td>\n",
       "      <td>0.000000</td>\n",
       "      <td>0.000000</td>\n",
       "      <td>0.000000</td>\n",
       "      <td>4.000000</td>\n",
       "      <td>1.000000</td>\n",
       "      <td>-53.154613</td>\n",
       "      <td>-8.618590e+07</td>\n",
       "      <td>1.000000</td>\n",
       "      <td>...</td>\n",
       "      <td>0.000000</td>\n",
       "      <td>0.000000</td>\n",
       "      <td>0.000000</td>\n",
       "      <td>0.000000</td>\n",
       "      <td>-9.000000</td>\n",
       "      <td>-9.000000</td>\n",
       "      <td>-9.000000</td>\n",
       "      <td>-9.000000</td>\n",
       "      <td>-9.000000</td>\n",
       "      <td>-9.000000</td>\n",
       "    </tr>\n",
       "    <tr>\n",
       "      <th>25%</th>\n",
       "      <td>1.991021e+11</td>\n",
       "      <td>1991.000000</td>\n",
       "      <td>4.000000</td>\n",
       "      <td>8.000000</td>\n",
       "      <td>0.000000</td>\n",
       "      <td>78.000000</td>\n",
       "      <td>5.000000</td>\n",
       "      <td>11.510046</td>\n",
       "      <td>4.545640e+00</td>\n",
       "      <td>1.000000</td>\n",
       "      <td>...</td>\n",
       "      <td>0.000000</td>\n",
       "      <td>0.000000</td>\n",
       "      <td>0.000000</td>\n",
       "      <td>0.000000</td>\n",
       "      <td>0.000000</td>\n",
       "      <td>0.000000</td>\n",
       "      <td>-9.000000</td>\n",
       "      <td>-9.000000</td>\n",
       "      <td>0.000000</td>\n",
       "      <td>-9.000000</td>\n",
       "    </tr>\n",
       "    <tr>\n",
       "      <th>50%</th>\n",
       "      <td>2.009022e+11</td>\n",
       "      <td>2009.000000</td>\n",
       "      <td>6.000000</td>\n",
       "      <td>15.000000</td>\n",
       "      <td>0.000000</td>\n",
       "      <td>98.000000</td>\n",
       "      <td>6.000000</td>\n",
       "      <td>31.467463</td>\n",
       "      <td>4.324651e+01</td>\n",
       "      <td>1.000000</td>\n",
       "      <td>...</td>\n",
       "      <td>0.000000</td>\n",
       "      <td>0.000000</td>\n",
       "      <td>0.000000</td>\n",
       "      <td>0.000000</td>\n",
       "      <td>1.000000</td>\n",
       "      <td>0.000000</td>\n",
       "      <td>-9.000000</td>\n",
       "      <td>-9.000000</td>\n",
       "      <td>0.000000</td>\n",
       "      <td>0.000000</td>\n",
       "    </tr>\n",
       "    <tr>\n",
       "      <th>75%</th>\n",
       "      <td>2.014081e+11</td>\n",
       "      <td>2014.000000</td>\n",
       "      <td>9.000000</td>\n",
       "      <td>23.000000</td>\n",
       "      <td>0.000000</td>\n",
       "      <td>160.000000</td>\n",
       "      <td>10.000000</td>\n",
       "      <td>34.685087</td>\n",
       "      <td>6.871033e+01</td>\n",
       "      <td>1.000000</td>\n",
       "      <td>...</td>\n",
       "      <td>0.000000</td>\n",
       "      <td>2.000000</td>\n",
       "      <td>0.000000</td>\n",
       "      <td>0.000000</td>\n",
       "      <td>1.000000</td>\n",
       "      <td>0.000000</td>\n",
       "      <td>0.000000</td>\n",
       "      <td>0.000000</td>\n",
       "      <td>0.000000</td>\n",
       "      <td>0.000000</td>\n",
       "    </tr>\n",
       "    <tr>\n",
       "      <th>max</th>\n",
       "      <td>2.017123e+11</td>\n",
       "      <td>2017.000000</td>\n",
       "      <td>12.000000</td>\n",
       "      <td>31.000000</td>\n",
       "      <td>1.000000</td>\n",
       "      <td>1004.000000</td>\n",
       "      <td>12.000000</td>\n",
       "      <td>74.633553</td>\n",
       "      <td>1.793667e+02</td>\n",
       "      <td>5.000000</td>\n",
       "      <td>...</td>\n",
       "      <td>500.000000</td>\n",
       "      <td>8191.000000</td>\n",
       "      <td>751.000000</td>\n",
       "      <td>200.000000</td>\n",
       "      <td>1.000000</td>\n",
       "      <td>1.000000</td>\n",
       "      <td>1.000000</td>\n",
       "      <td>1.000000</td>\n",
       "      <td>1.000000</td>\n",
       "      <td>1.000000</td>\n",
       "    </tr>\n",
       "  </tbody>\n",
       "</table>\n",
       "<p>8 rows × 41 columns</p>\n",
       "</div>"
      ],
      "text/plain": [
       "            eventid          iyear         imonth           iday  \\\n",
       "count  1.816910e+05  181691.000000  181691.000000  181691.000000   \n",
       "mean   2.002705e+11    2002.638997       6.467277      15.505644   \n",
       "std    1.325957e+09      13.259430       3.388303       8.814045   \n",
       "min    1.970000e+11    1970.000000       0.000000       0.000000   \n",
       "25%    1.991021e+11    1991.000000       4.000000       8.000000   \n",
       "50%    2.009022e+11    2009.000000       6.000000      15.000000   \n",
       "75%    2.014081e+11    2014.000000       9.000000      23.000000   \n",
       "max    2.017123e+11    2017.000000      12.000000      31.000000   \n",
       "\n",
       "            extended        country         region       latitude  \\\n",
       "count  181691.000000  181691.000000  181691.000000  177135.000000   \n",
       "mean        0.045346     131.968501       7.160938      23.498343   \n",
       "std         0.208063     112.414535       2.933408      18.569242   \n",
       "min         0.000000       4.000000       1.000000     -53.154613   \n",
       "25%         0.000000      78.000000       5.000000      11.510046   \n",
       "50%         0.000000      98.000000       6.000000      31.467463   \n",
       "75%         0.000000     160.000000      10.000000      34.685087   \n",
       "max         1.000000    1004.000000      12.000000      74.633553   \n",
       "\n",
       "          longitude    specificity  ...       nkillter         nwound  \\\n",
       "count  1.771340e+05  181685.000000  ...  114733.000000  165380.000000   \n",
       "mean  -4.586957e+02       1.451452  ...       0.508058       3.167668   \n",
       "std    2.047790e+05       0.995430  ...       4.199937      35.949392   \n",
       "min   -8.618590e+07       1.000000  ...       0.000000       0.000000   \n",
       "25%    4.545640e+00       1.000000  ...       0.000000       0.000000   \n",
       "50%    4.324651e+01       1.000000  ...       0.000000       0.000000   \n",
       "75%    6.871033e+01       1.000000  ...       0.000000       2.000000   \n",
       "max    1.793667e+02       5.000000  ...     500.000000    8191.000000   \n",
       "\n",
       "            nwoundus       nwoundte       property      ishostkid  \\\n",
       "count  116989.000000  112548.000000  181691.000000  181513.000000   \n",
       "mean        0.038944       0.107163      -0.544556       0.059054   \n",
       "std         3.057361       1.488881       3.122889       0.461244   \n",
       "min         0.000000       0.000000      -9.000000      -9.000000   \n",
       "25%         0.000000       0.000000       0.000000       0.000000   \n",
       "50%         0.000000       0.000000       1.000000       0.000000   \n",
       "75%         0.000000       0.000000       1.000000       0.000000   \n",
       "max       751.000000     200.000000       1.000000       1.000000   \n",
       "\n",
       "             INT_LOG       INT_IDEO       INT_MISC        INT_ANY  \n",
       "count  181691.000000  181691.000000  181691.000000  181691.000000  \n",
       "mean       -4.543731      -4.464398       0.090010      -3.945952  \n",
       "std         4.543547       4.637152       0.568457       4.691325  \n",
       "min        -9.000000      -9.000000      -9.000000      -9.000000  \n",
       "25%        -9.000000      -9.000000       0.000000      -9.000000  \n",
       "50%        -9.000000      -9.000000       0.000000       0.000000  \n",
       "75%         0.000000       0.000000       0.000000       0.000000  \n",
       "max         1.000000       1.000000       1.000000       1.000000  \n",
       "\n",
       "[8 rows x 41 columns]"
      ]
     },
     "execution_count": 11,
     "metadata": {},
     "output_type": "execute_result"
    }
   ],
   "source": [
    "# describing data\n",
    "data.describe()"
   ]
  },
  {
   "cell_type": "markdown",
   "metadata": {},
   "source": [
    "### DATA VISUALIZATION"
   ]
  },
  {
   "cell_type": "markdown",
   "metadata": {},
   "source": [
    "ATTACK TYPE"
   ]
  },
  {
   "cell_type": "code",
   "execution_count": 12,
   "metadata": {},
   "outputs": [
    {
     "data": {
      "text/plain": [
       "Bombing/Explosion                      88255\n",
       "Armed Assault                          42669\n",
       "Assassination                          19312\n",
       "Hostage Taking (Kidnapping)            11158\n",
       "Facility/Infrastructure Attack         10356\n",
       "Unknown                                 7276\n",
       "Unarmed Assault                         1015\n",
       "Hostage Taking (Barricade Incident)      991\n",
       "Hijacking                                659\n",
       "Name: attacktype1_txt, dtype: int64"
      ]
     },
     "execution_count": 12,
     "metadata": {},
     "output_type": "execute_result"
    }
   ],
   "source": [
    "\n",
    "data['attacktype1_txt'].value_counts()"
   ]
  },
  {
   "cell_type": "code",
   "execution_count": 13,
   "metadata": {},
   "outputs": [
    {
     "data": {
      "image/png": "[encoded data removed]",
      "text/plain": [
       "<Figure size 432x288 with 1 Axes>"
      ]
     },
     "metadata": {
      "needs_background": "light"
     },
     "output_type": "display_data"
    }
   ],
   "source": [
    "data['attacktype1_txt'].value_counts().plot(kind= 'bar', color = 'black', title = 'Attacking Type', alpha = 0.75)\n",
    "plt.show()\n"
   ]
  },
  {
   "cell_type": "markdown",
   "metadata": {},
   "source": [
    "In our data set we have visualized  attack_type attribute which has \n",
    "Bombing/Explosion,Armed Assault,Assassination,Hostage Taking (Kidnapping),Facility/Infrastructure Attack,Unarmed Assault ,Hostage Taking ,Hijacking .\n",
    "In this we have observed that bombing attacks are more which are having higher count above 8000"
   ]
  },
  {
   "cell_type": "markdown",
   "metadata": {},
   "source": [
    "IYEAR"
   ]
  },
  {
   "cell_type": "code",
   "execution_count": 14,
   "metadata": {},
   "outputs": [
    {
     "data": {
      "text/plain": [
       "2014    16903\n",
       "2015    14965\n",
       "2016    13587\n",
       "2013    12036\n",
       "2017    10900\n",
       "2012     8522\n",
       "2011     5076\n",
       "1992     5071\n",
       "2010     4826\n",
       "2008     4805\n",
       "2009     4721\n",
       "1991     4683\n",
       "1989     4324\n",
       "1990     3887\n",
       "1988     3721\n",
       "1984     3495\n",
       "1994     3456\n",
       "2007     3242\n",
       "1997     3197\n",
       "1987     3183\n",
       "Name: iyear, dtype: int64"
      ]
     },
     "execution_count": 14,
     "metadata": {},
     "output_type": "execute_result"
    }
   ],
   "source": [
    "data['iyear'].value_counts(dropna=False).head(20)"
   ]
  },
  {
   "cell_type": "code",
   "execution_count": 15,
   "metadata": {},
   "outputs": [
    {
     "data": {
      "image/png": "[encoded data removed]",
      "text/plain": [
       "<Figure size 432x288 with 1 Axes>"
      ]
     },
     "metadata": {
      "needs_background": "light"
     },
     "output_type": "display_data"
    }
   ],
   "source": [
    "data['iyear'].value_counts(bins=10,dropna=False).head(20).plot(kind= 'bar', color = 'black', title = 'Attacking By year', alpha = 0.90)\n",
    "plt.show()"
   ]
  },
  {
   "cell_type": "markdown",
   "metadata": {},
   "source": [
    "COUNTRY_TXT"
   ]
  },
  {
   "cell_type": "code",
   "execution_count": 16,
   "metadata": {},
   "outputs": [
    {
     "data": {
      "text/plain": [
       "Iraq                   24636\n",
       "Pakistan               14368\n",
       "Afghanistan            12731\n",
       "India                  11960\n",
       "Colombia                8306\n",
       "                       ...  \n",
       "Andorra                    1\n",
       "St. Lucia                  1\n",
       "New Hebrides               1\n",
       "South Vietnam              1\n",
       "Antigua and Barbuda        1\n",
       "Name: country_txt, Length: 205, dtype: int64"
      ]
     },
     "execution_count": 16,
     "metadata": {},
     "output_type": "execute_result"
    }
   ],
   "source": [
    "data['country_txt'].value_counts(dropna=True)"
   ]
  },
  {
   "cell_type": "code",
   "execution_count": 17,
   "metadata": {},
   "outputs": [
    {
     "data": {
      "image/png": "[encoded data removed]",
      "text/plain": [
       "<Figure size 432x288 with 1 Axes>"
      ]
     },
     "metadata": {
      "needs_background": "light"
     },
     "output_type": "display_data"
    }
   ],
   "source": [
    "data['country_txt'].value_counts(dropna=False).head(15).plot(kind= 'bar', color = 'Black', title = 'Attacking By Country', alpha = 0.90)\n",
    "plt.show()"
   ]
  },
  {
   "cell_type": "markdown",
   "metadata": {},
   "source": [
    "REGION_TXT"
   ]
  },
  {
   "cell_type": "code",
   "execution_count": 18,
   "metadata": {},
   "outputs": [
    {
     "data": {
      "image/png": "[encoded data removed]",
      "text/plain": [
       "<Figure size 432x288 with 1 Axes>"
      ]
     },
     "metadata": {
      "needs_background": "light"
     },
     "output_type": "display_data"
    }
   ],
   "source": [
    "data['region_txt'].value_counts()\n",
    "data['region_txt'].value_counts().plot(kind= 'bar', color = 'Black', title = 'Attacking By Region', alpha = 0.90)\n",
    "plt.show()"
   ]
  },
  {
   "cell_type": "markdown",
   "metadata": {},
   "source": [
    "CITY"
   ]
  },
  {
   "cell_type": "code",
   "execution_count": 19,
   "metadata": {},
   "outputs": [
    {
     "data": {
      "text/plain": [
       "Unknown               9775\n",
       "Baghdad               7589\n",
       "Karachi               2652\n",
       "Lima                  2359\n",
       "Mosul                 2265\n",
       "                      ... \n",
       "Bartokolo                1\n",
       "Amatitlan district       1\n",
       "Kemiling                 1\n",
       "Dehrawud district        1\n",
       "Nineveh                  1\n",
       "Name: city, Length: 36674, dtype: int64"
      ]
     },
     "execution_count": 19,
     "metadata": {},
     "output_type": "execute_result"
    }
   ],
   "source": [
    "data['city'].value_counts()"
   ]
  },
  {
   "cell_type": "code",
   "execution_count": 20,
   "metadata": {},
   "outputs": [
    {
     "data": {
      "image/png": "[encoded data removed]",
      "text/plain": [
       "<Figure size 432x288 with 1 Axes>"
      ]
     },
     "metadata": {
      "needs_background": "light"
     },
     "output_type": "display_data"
    }
   ],
   "source": [
    "data['city'].value_counts().head(20).plot(kind= 'bar', color = 'Blue', title = 'Attacking By City', alpha = 0.90)\n",
    "plt.show()"
   ]
  },
  {
   "cell_type": "markdown",
   "metadata": {},
   "source": [
    "GNAME"
   ]
  },
  {
   "cell_type": "code",
   "execution_count": 21,
   "metadata": {},
   "outputs": [
    {
     "data": {
      "text/plain": [
       "Unknown                                             82782\n",
       "Taliban                                              7478\n",
       "Islamic State of Iraq and the Levant (ISIL)          5613\n",
       "Shining Path (SL)                                    4555\n",
       "Farabundo Marti National Liberation Front (FMLN)     3351\n",
       "                                                    ...  \n",
       "Moroccan extremists                                     1\n",
       "Nahzat e Eslami                                         1\n",
       "Diraa al-Shahbaa Rebel Brigade                          1\n",
       "Sasna Tsrer                                             1\n",
       "Kuki Unification Frontal Organization (KUFO)            1\n",
       "Name: gname, Length: 3537, dtype: int64"
      ]
     },
     "execution_count": 21,
     "metadata": {},
     "output_type": "execute_result"
    }
   ],
   "source": [
    "data['gname'].value_counts()"
   ]
  },
  {
   "cell_type": "code",
   "execution_count": 22,
   "metadata": {},
   "outputs": [
    {
     "data": {
      "image/png": "[encoded data removed]",
      "text/plain": [
       "<Figure size 432x288 with 1 Axes>"
      ]
     },
     "metadata": {
      "needs_background": "light"
     },
     "output_type": "display_data"
    }
   ],
   "source": [
    "data['gname'].value_counts().head(15).plot(kind= 'bar', color = 'Blue', title = 'Terrorist Group', alpha = 0.90)\n",
    "plt.show()"
   ]
  },
  {
   "cell_type": "markdown",
   "metadata": {},
   "source": [
    "TARGET1"
   ]
  },
  {
   "cell_type": "code",
   "execution_count": 23,
   "metadata": {},
   "outputs": [
    {
     "data": {
      "image/png": "[encoded data removed]",
      "text/plain": [
       "<Figure size 432x288 with 1 Axes>"
      ]
     },
     "metadata": {
      "needs_background": "light"
     },
     "output_type": "display_data"
    }
   ],
   "source": [
    "data['target1'].value_counts()\n",
    "data['target1'].value_counts().head(10).plot(kind= 'bar', color = 'Blue', title = 'Terrorist Target to Attack', alpha = 0.90)\n",
    "plt.show()"
   ]
  },
  {
   "cell_type": "markdown",
   "metadata": {},
   "source": [
    "IMONTH"
   ]
  },
  {
   "cell_type": "code",
   "execution_count": 24,
   "metadata": {},
   "outputs": [
    {
     "data": {
      "image/png": "[encoded data removed]",
      "text/plain": [
       "<Figure size 432x288 with 1 Axes>"
      ]
     },
     "metadata": {
      "needs_background": "light"
     },
     "output_type": "display_data"
    }
   ],
   "source": [
    "data['imonth'].value_counts()\n",
    "data['imonth'].value_counts().plot(kind= 'bar', color = 'Blue', title = 'Terrorist Group', alpha = 0.90)\n",
    "plt.show()"
   ]
  },
  {
   "cell_type": "markdown",
   "metadata": {},
   "source": [
    "IDAY"
   ]
  },
  {
   "cell_type": "code",
   "execution_count": 25,
   "metadata": {},
   "outputs": [
    {
     "data": {
      "image/png": "[encoded data removed]",
      "text/plain": [
       "<Figure size 432x288 with 1 Axes>"
      ]
     },
     "metadata": {
      "needs_background": "light"
     },
     "output_type": "display_data"
    }
   ],
   "source": [
    "data['iday'].value_counts()\n",
    "data['iday'].value_counts().plot(kind= 'bar', color = 'Blue', title = 'Terrorist Group', alpha = 0.90)\n",
    "plt.show()"
   ]
  },
  {
   "cell_type": "markdown",
   "metadata": {},
   "source": [
    "ATTACKING SUCCESS RATE"
   ]
  },
  {
   "cell_type": "code",
   "execution_count": 26,
   "metadata": {},
   "outputs": [
    {
     "data": {
      "image/png": "[encoded data removed]",
      "text/plain": [
       "<Figure size 432x288 with 1 Axes>"
      ]
     },
     "metadata": {
      "needs_background": "light"
     },
     "output_type": "display_data"
    }
   ],
   "source": [
    "data['success'].value_counts().plot(kind= 'bar', color = 'blue', title = 'Attacking Succees rate', alpha = 0.55)\n",
    "plt.show()"
   ]
  },
  {
   "cell_type": "markdown",
   "metadata": {},
   "source": [
    " Replace Attacking succees rate with 0, 1"
   ]
  },
  {
   "cell_type": "code",
   "execution_count": 27,
   "metadata": {},
   "outputs": [],
   "source": [
    "status_replace = {\n",
    "    \"success\" : {\n",
    "        1: \"Success\",\n",
    "        0: \"Failed\",\n",
    "    }\n",
    "}\n",
    "data = data.replace(status_replace)"
   ]
  },
  {
   "cell_type": "markdown",
   "metadata": {},
   "source": [
    "Display the the value counts of Success and failed"
   ]
  },
  {
   "cell_type": "code",
   "execution_count": 28,
   "metadata": {},
   "outputs": [
    {
     "data": {
      "text/plain": [
       "Success    161632\n",
       "Failed      20059\n",
       "Name: success, dtype: int64"
      ]
     },
     "execution_count": 28,
     "metadata": {},
     "output_type": "execute_result"
    }
   ],
   "source": [
    "data['success'].value_counts()"
   ]
  },
  {
   "cell_type": "markdown",
   "metadata": {},
   "source": [
    "181691 Rows, 57 Columns"
   ]
  },
  {
   "cell_type": "code",
   "execution_count": 29,
   "metadata": {},
   "outputs": [
    {
     "data": {
      "text/plain": [
       "(181691, 57)"
      ]
     },
     "execution_count": 29,
     "metadata": {},
     "output_type": "execute_result"
    }
   ],
   "source": [
    "data.shape"
   ]
  },
  {
   "cell_type": "markdown",
   "metadata": {},
   "source": [
    "### Final Data Cleaning"
   ]
  },
  {
   "cell_type": "code",
   "execution_count": 30,
   "metadata": {},
   "outputs": [
    {
     "data": {
      "text/plain": [
       "[]"
      ]
     },
     "execution_count": 30,
     "metadata": {},
     "output_type": "execute_result"
    }
   ],
   "source": [
    "orig_columns = data.columns\n",
    "drop_columns = []\n",
    "for col in orig_columns:\n",
    "    col_series = data[col].dropna().unique()\n",
    "    if len(col_series) == 1:\n",
    "        drop_columns.append(col)\n",
    "data = data.drop(drop_columns, axis = 1)\n",
    "drop_columns\n"
   ]
  },
  {
   "cell_type": "code",
   "execution_count": 31,
   "metadata": {},
   "outputs": [
    {
     "data": {
      "text/plain": [
       "(181691, 57)"
      ]
     },
     "execution_count": 31,
     "metadata": {},
     "output_type": "execute_result"
    }
   ],
   "source": [
    "#loan_data.drop(['pymnt_plan','initial_list_status','tax_liens','delinq_amnt','collections_12_mths_ex_med','application_type','acc_now_delinq','chargeoff_within_12_mths'],axis=1)\n",
    "\n",
    "data.shape\n"
   ]
  },
  {
   "cell_type": "markdown",
   "metadata": {},
   "source": [
    "### III. Methodology\n",
    "Preparing The Features: Dealing With Missing Values"
   ]
  },
  {
   "cell_type": "code",
   "execution_count": 32,
   "metadata": {},
   "outputs": [
    {
     "data": {
      "text/plain": [
       "eventid                 0\n",
       "iyear                   0\n",
       "imonth                  0\n",
       "iday                    0\n",
       "extended                0\n",
       "country                 0\n",
       "country_txt             0\n",
       "region                  0\n",
       "region_txt              0\n",
       "provstate             421\n",
       "city                  434\n",
       "latitude             4556\n",
       "longitude            4557\n",
       "specificity             6\n",
       "vicinity                0\n",
       "summary             66129\n",
       "crit1                   0\n",
       "crit2                   0\n",
       "crit3                   0\n",
       "doubtterr               1\n",
       "multiple                1\n",
       "success                 0\n",
       "suicide                 0\n",
       "attacktype1             0\n",
       "attacktype1_txt         0\n",
       "targtype1               0\n",
       "targtype1_txt           0\n",
       "targsubtype1        10373\n",
       "targsubtype1_txt    10373\n",
       "corp1               42550\n",
       "target1               636\n",
       "natlty1              1559\n",
       "natlty1_txt          1559\n",
       "gname                   0\n",
       "guncertain1           380\n",
       "individual              0\n",
       "nperps              71115\n",
       "nperpcap            69489\n",
       "claimed             66120\n",
       "weaptype1               0\n",
       "weaptype1_txt           0\n",
       "weapsubtype1        20768\n",
       "weapsubtype1_txt    20768\n",
       "weapdetail          67670\n",
       "nkill               10313\n",
       "nkillus             64446\n",
       "nkillter            66958\n",
       "nwound              16311\n",
       "nwoundus            64702\n",
       "nwoundte            69143\n",
       "property                0\n",
       "ishostkid             178\n",
       "dbsource                0\n",
       "INT_LOG                 0\n",
       "INT_IDEO                0\n",
       "INT_MISC                0\n",
       "INT_ANY                 0\n",
       "dtype: int64"
      ]
     },
     "execution_count": 32,
     "metadata": {},
     "output_type": "execute_result"
    }
   ],
   "source": [
    "null_counts = data.isnull().sum()\n",
    "null_counts"
   ]
  },
  {
   "cell_type": "code",
   "execution_count": 33,
   "metadata": {},
   "outputs": [
    {
     "data": {
      "text/plain": [
       "(181691, 57)"
      ]
     },
     "execution_count": 33,
     "metadata": {},
     "output_type": "execute_result"
    }
   ],
   "source": [
    "data.shape"
   ]
  },
  {
   "cell_type": "markdown",
   "metadata": {},
   "source": [
    "### Handling Non-Numeric Data Types\n",
    "The data types of columns are important to look at and we will need to deal with non-numeric values in order to encode and use them in our machine learning algorithms."
   ]
  },
  {
   "cell_type": "code",
   "execution_count": 34,
   "metadata": {},
   "outputs": [
    {
     "name": "stdout",
     "output_type": "stream",
     "text": [
      "int64      21\n",
      "float64    19\n",
      "object     17\n",
      "dtype: int64\n"
     ]
    }
   ],
   "source": [
    "print(data.dtypes.value_counts())"
   ]
  },
  {
   "cell_type": "code",
   "execution_count": 35,
   "metadata": {},
   "outputs": [
    {
     "name": "stdout",
     "output_type": "stream",
     "text": [
      "country_txt                  Dominican Republic\n",
      "region_txt          Central America & Caribbean\n",
      "provstate                                   NaN\n",
      "city                              Santo Domingo\n",
      "summary                                     NaN\n",
      "success                                 Success\n",
      "attacktype1_txt                   Assassination\n",
      "targtype1_txt       Private Citizens & Property\n",
      "targsubtype1_txt                 Named Civilian\n",
      "corp1                                       NaN\n",
      "target1                            Julio Guzman\n",
      "natlty1_txt                  Dominican Republic\n",
      "gname                                    MANO-D\n",
      "weaptype1_txt                           Unknown\n",
      "weapsubtype1_txt                            NaN\n",
      "weapdetail                                  NaN\n",
      "dbsource                                   PGIS\n",
      "Name: 0, dtype: object\n"
     ]
    }
   ],
   "source": [
    "object_columns_df = data.select_dtypes(include=[\"object\"])\n",
    "print(object_columns_df.iloc[0])"
   ]
  },
  {
   "cell_type": "markdown",
   "metadata": {},
   "source": [
    "The data info() function is used to print a concise summary of a DataFrame. This method prints information about a DataFrame including the index"
   ]
  },
  {
   "cell_type": "code",
   "execution_count": 36,
   "metadata": {},
   "outputs": [
    {
     "name": "stdout",
     "output_type": "stream",
     "text": [
      "<class 'pandas.core.frame.DataFrame'>\n",
      "RangeIndex: 181691 entries, 0 to 181690\n",
      "Data columns (total 57 columns):\n",
      " #   Column            Non-Null Count   Dtype  \n",
      "---  ------            --------------   -----  \n",
      " 0   eventid           181691 non-null  int64  \n",
      " 1   iyear             181691 non-null  int64  \n",
      " 2   imonth            181691 non-null  int64  \n",
      " 3   iday              181691 non-null  int64  \n",
      " 4   extended          181691 non-null  int64  \n",
      " 5   country           181691 non-null  int64  \n",
      " 6   country_txt       181691 non-null  object \n",
      " 7   region            181691 non-null  int64  \n",
      " 8   region_txt        181691 non-null  object \n",
      " 9   provstate         181270 non-null  object \n",
      " 10  city              181257 non-null  object \n",
      " 11  latitude          177135 non-null  float64\n",
      " 12  longitude         177134 non-null  float64\n",
      " 13  specificity       181685 non-null  float64\n",
      " 14  vicinity          181691 non-null  int64  \n",
      " 15  summary           115562 non-null  object \n",
      " 16  crit1             181691 non-null  int64  \n",
      " 17  crit2             181691 non-null  int64  \n",
      " 18  crit3             181691 non-null  int64  \n",
      " 19  doubtterr         181690 non-null  float64\n",
      " 20  multiple          181690 non-null  float64\n",
      " 21  success           181691 non-null  object \n",
      " 22  suicide           181691 non-null  int64  \n",
      " 23  attacktype1       181691 non-null  int64  \n",
      " 24  attacktype1_txt   181691 non-null  object \n",
      " 25  targtype1         181691 non-null  int64  \n",
      " 26  targtype1_txt     181691 non-null  object \n",
      " 27  targsubtype1      171318 non-null  float64\n",
      " 28  targsubtype1_txt  171318 non-null  object \n",
      " 29  corp1             139141 non-null  object \n",
      " 30  target1           181055 non-null  object \n",
      " 31  natlty1           180132 non-null  float64\n",
      " 32  natlty1_txt       180132 non-null  object \n",
      " 33  gname             181691 non-null  object \n",
      " 34  guncertain1       181311 non-null  float64\n",
      " 35  individual        181691 non-null  int64  \n",
      " 36  nperps            110576 non-null  float64\n",
      " 37  nperpcap          112202 non-null  float64\n",
      " 38  claimed           115571 non-null  float64\n",
      " 39  weaptype1         181691 non-null  int64  \n",
      " 40  weaptype1_txt     181691 non-null  object \n",
      " 41  weapsubtype1      160923 non-null  float64\n",
      " 42  weapsubtype1_txt  160923 non-null  object \n",
      " 43  weapdetail        114021 non-null  object \n",
      " 44  nkill             171378 non-null  float64\n",
      " 45  nkillus           117245 non-null  float64\n",
      " 46  nkillter          114733 non-null  float64\n",
      " 47  nwound            165380 non-null  float64\n",
      " 48  nwoundus          116989 non-null  float64\n",
      " 49  nwoundte          112548 non-null  float64\n",
      " 50  property          181691 non-null  int64  \n",
      " 51  ishostkid         181513 non-null  float64\n",
      " 52  dbsource          181691 non-null  object \n",
      " 53  INT_LOG           181691 non-null  int64  \n",
      " 54  INT_IDEO          181691 non-null  int64  \n",
      " 55  INT_MISC          181691 non-null  int64  \n",
      " 56  INT_ANY           181691 non-null  int64  \n",
      "dtypes: float64(19), int64(21), object(17)\n",
      "memory usage: 79.0+ MB\n"
     ]
    }
   ],
   "source": [
    "data.info()"
   ]
  },
  {
   "cell_type": "code",
   "execution_count": 37,
   "metadata": {},
   "outputs": [],
   "source": [
    "status_replace = {\n",
    "    \"success\" : {\n",
    "        1: \"Success\",\n",
    "        0: \"Failed\",\n",
    "    }\n",
    "}\n",
    "data = data.replace(status_replace)"
   ]
  },
  {
   "cell_type": "code",
   "execution_count": 38,
   "metadata": {},
   "outputs": [
    {
     "name": "stdout",
     "output_type": "stream",
     "text": [
      "0.8895982739926579\n",
      "0.11040172600734213\n"
     ]
    }
   ],
   "source": [
    "predictions = pd.Series(np.ones(data.shape[0]))\n",
    "\n",
    "false_positive_filter = (predictions == 1) & ((data['success'] == 'Success'))\n",
    "\n",
    "false_positive = len(predictions[false_positive_filter])\n",
    "\n",
    "true_positive_filter = (predictions == 1) & ((data['success'] == 'Failed'))\n",
    "true_positive = len(predictions[true_positive_filter])\n",
    "\n",
    "predictions = pd.Series(np.zeros(data.shape[0]))\n",
    "false_negative_filter = (predictions == 0) & ((data['success'] == 'Success'))\n",
    "false_negative = len(predictions[false_negative_filter])\n",
    "\n",
    "\n",
    "true_negative_filter = (predictions == 0) & ((data['success'] == 'Failed'))\n",
    "true_negative = len(predictions[true_negative_filter])\n",
    "\n",
    "\n",
    "false_positive_rate = true_positive / (true_positive + false_negative)\n",
    "true_positive_rate = false_positive / (false_positive + true_negative)\n",
    "\n",
    "print (float(true_positive_rate) )\n",
    "print (float(false_positive_rate))\n"
   ]
  },
  {
   "cell_type": "code",
   "execution_count": 39,
   "metadata": {},
   "outputs": [
    {
     "data": {
      "text/plain": [
       "0.8895982739926579"
      ]
     },
     "execution_count": 39,
     "metadata": {},
     "output_type": "execute_result"
    }
   ],
   "source": [
    "accuracy = float(false_positive + false_negative)/float(true_positive + false_positive+ false_negative + true_negative)\n",
    "accuracy"
   ]
  },
  {
   "cell_type": "code",
   "execution_count": 40,
   "metadata": {},
   "outputs": [
    {
     "data": {
      "text/plain": [
       "0.8895982739926579"
      ]
     },
     "execution_count": 40,
     "metadata": {},
     "output_type": "execute_result"
    }
   ],
   "source": [
    "precision = float(false_positive)/float(false_positive + true_negative)\n",
    "precision"
   ]
  },
  {
   "cell_type": "code",
   "execution_count": 41,
   "metadata": {},
   "outputs": [
    {
     "data": {
      "image/png": "[encoded data removed]",
      "text/plain": [
       "<Figure size 288x288 with 1 Axes>"
      ]
     },
     "metadata": {},
     "output_type": "display_data"
    }
   ],
   "source": [
    "# Data to plot\n",
    "labels = 'False Positive', 'True Positive'\n",
    "sizes = [1-precision, precision]\n",
    "colors = ['lightcoral', 'lightblue'] \n",
    "# Plot\n",
    "plt.figure(figsize=(4,4))\n",
    "plt.pie(sizes, colors=colors, autopct='%1.2f%%', shadow=False, startangle=0)\n",
    "plt.title('Precision Of Sucess Rate', fontsize=12) \n",
    "plt.legend(labels, loc='lower left', fontsize=10)\n",
    "plt.axis('equal')\n",
    "plt.show()"
   ]
  },
  {
   "cell_type": "markdown",
   "metadata": {},
   "source": [
    "### Logistic Regression Classification"
   ]
  },
  {
   "cell_type": "markdown",
   "metadata": {},
   "source": [
    "Logistic regression is a supervised learning classification algorithm used to predict the probability of a target variable. The nature of target or dependent variable is dichotomous, which means there would be only two possible classes."
   ]
  },
  {
   "cell_type": "code",
   "execution_count": 42,
   "metadata": {},
   "outputs": [
    {
     "data": {
      "text/plain": [
       "eventid                            197000000001\n",
       "iyear                                      1970\n",
       "imonth                                        7\n",
       "iday                                          2\n",
       "extended                                      0\n",
       "country                                      58\n",
       "country_txt                  Dominican Republic\n",
       "region                                        2\n",
       "region_txt          Central America & Caribbean\n",
       "provstate                                   NaN\n",
       "city                              Santo Domingo\n",
       "latitude                                18.4568\n",
       "longitude                              -69.9512\n",
       "specificity                                   1\n",
       "vicinity                                      0\n",
       "summary                                     NaN\n",
       "crit1                                         1\n",
       "crit2                                         1\n",
       "crit3                                         1\n",
       "doubtterr                                     0\n",
       "multiple                                      0\n",
       "success                                 Success\n",
       "suicide                                       0\n",
       "attacktype1                                   1\n",
       "attacktype1_txt                   Assassination\n",
       "targtype1                                    14\n",
       "targtype1_txt       Private Citizens & Property\n",
       "targsubtype1                                 68\n",
       "targsubtype1_txt                 Named Civilian\n",
       "corp1                                       NaN\n",
       "target1                            Julio Guzman\n",
       "natlty1                                      58\n",
       "natlty1_txt                  Dominican Republic\n",
       "gname                                    MANO-D\n",
       "guncertain1                                   0\n",
       "individual                                    0\n",
       "nperps                                      NaN\n",
       "nperpcap                                    NaN\n",
       "claimed                                     NaN\n",
       "weaptype1                                    13\n",
       "weaptype1_txt                           Unknown\n",
       "weapsubtype1                                NaN\n",
       "weapsubtype1_txt                            NaN\n",
       "weapdetail                                  NaN\n",
       "nkill                                         1\n",
       "nkillus                                     NaN\n",
       "nkillter                                    NaN\n",
       "nwound                                        0\n",
       "nwoundus                                    NaN\n",
       "nwoundte                                    NaN\n",
       "property                                      0\n",
       "ishostkid                                     0\n",
       "dbsource                                   PGIS\n",
       "INT_LOG                                       0\n",
       "INT_IDEO                                      0\n",
       "INT_MISC                                      0\n",
       "INT_ANY                                       0\n",
       "Name: 0, dtype: object"
      ]
     },
     "execution_count": 42,
     "metadata": {},
     "output_type": "execute_result"
    }
   ],
   "source": [
    "data.iloc[0]"
   ]
  },
  {
   "cell_type": "code",
   "execution_count": 43,
   "metadata": {},
   "outputs": [],
   "source": [
    "from sklearn.linear_model import LogisticRegression\n",
    "lr = LogisticRegression()\n",
    "data.dropna(axis='columns')\n",
    "cols = data.columns\n",
    "#print(type(cols))\n",
    "train_cols = cols.drop([ 'eventid', 'iyear', 'imonth', 'iday', 'extended', 'country',\n",
    "       'country_txt', 'region', 'region_txt', 'provstate', 'city', 'latitude',\n",
    "       'longitude', 'specificity', 'vicinity', 'summary', 'crit1', 'crit2',\n",
    "       'crit3', 'doubtterr', 'multiple',  'suicide', 'attacktype1',\n",
    "       'attacktype1_txt', 'targtype1', 'targtype1_txt', 'targsubtype1',\n",
    "       'targsubtype1_txt', 'corp1', 'target1', 'natlty1', 'natlty1_txt',\n",
    "       'gname', 'guncertain1', 'individual', 'nperps', 'nperpcap', 'claimed',\n",
    "       'weaptype1', 'weaptype1_txt', 'weapsubtype1', 'weapsubtype1_txt',\n",
    "       'weapdetail',\n",
    "       'nwoundte', 'property', 'ishostkid', 'dbsource', 'INT_LOG', 'INT_IDEO',\n",
    "       'INT_MISC', 'INT_ANY'])\n",
    "features = data[train_cols]\n",
    "target = []\n",
    "ans = features['success']\n",
    "for val in ans=='Success':\n",
    "   \n",
    "    if val==True:\n",
    "        target.append(int(True))\n",
    "    else:\n",
    "        target.append(int(False))\n",
    " \n",
    "cols.drop([ 'success'])\n",
    "\n",
    "status_replace = {\n",
    "    \"success\" : {\n",
    "        1: \"Success\",\n",
    "        0: \"Filed\",\n",
    "    },    \n",
    "}\n",
    "data = data.replace(status_replace)\n",
    "features = features.iloc[:, [1,2,3,4]]\n",
    "features.dropna(axis='columns')\n",
    "features = features.replace(0,np.NaN)\n",
    "features = features.fillna(0)\n",
    "lr.fit(features, target)\n",
    "predictions = lr.predict(features)"
   ]
  },
  {
   "cell_type": "code",
   "execution_count": 44,
   "metadata": {},
   "outputs": [
    {
     "name": "stdout",
     "output_type": "stream",
     "text": [
      "0.9951282561145357\n",
      "0.999746247872505\n"
     ]
    }
   ],
   "source": [
    "false_positive_filter =(predictions == 1) & ((data['success'] == 'Success'))\n",
    "false_positive = len(predictions[false_positive_filter])\n",
    "\n",
    "true_positive_filter = (predictions == 1) & ((data['success'] == 'Failed'))\n",
    "true_positive = len(predictions[true_positive_filter])\n",
    "\n",
    "false_negative_filter = (predictions == 0) & ((data['success'] == 'Success'))\n",
    "false_negative = len(predictions[false_negative_filter])\n",
    "\n",
    "true_negative_filter = (predictions == 0) & ((data['success'] == 'Failed'))\n",
    "true_negative = len(predictions[true_negative_filter])\n",
    "\n",
    "true_positive_rate = float(true_positive)/float((true_positive + false_negative))\n",
    "false_positive_rate = float(false_positive)/float((false_positive + true_negative))\n",
    "\n",
    "print (float(true_positive_rate))\n",
    "print (float(false_positive_rate))"
   ]
  },
  {
   "cell_type": "markdown",
   "metadata": {},
   "source": [
    "Precision of Logistic Regression"
   ]
  },
  {
   "cell_type": "code",
   "execution_count": 45,
   "metadata": {},
   "outputs": [
    {
     "data": {
      "text/plain": [
       "0.8897395787432801"
      ]
     },
     "execution_count": 45,
     "metadata": {},
     "output_type": "execute_result"
    }
   ],
   "source": [
    "precision = float(false_positive)/float(true_positive + false_positive)\n",
    "precision"
   ]
  },
  {
   "cell_type": "code",
   "execution_count": 46,
   "metadata": {},
   "outputs": [
    {
     "data": {
      "image/png": "[encoded data removed]",
      "text/plain": [
       "<Figure size 288x288 with 1 Axes>"
      ]
     },
     "metadata": {},
     "output_type": "display_data"
    }
   ],
   "source": [
    " # Data to plot\n",
    "labels = 'False Positive', 'True Positive'\n",
    "sizes = [1-precision, precision]\n",
    "colors = ['lightcoral', 'lightblue'] \n",
    "# Plot\n",
    "plt.figure(figsize=(4,4))\n",
    "plt.pie(sizes, colors=colors, autopct='%1.2f%%', shadow=False, startangle=0)\n",
    "plt.title('Precision With Simple Logistic Regression', fontsize=12) \n",
    "plt.legend(labels, loc='lower left', fontsize=10)\n",
    "plt.axis('equal')\n",
    "plt.show()"
   ]
  },
  {
   "cell_type": "markdown",
   "metadata": {},
   "source": [
    "Accuracy of Logistic Regression"
   ]
  },
  {
   "cell_type": "code",
   "execution_count": 47,
   "metadata": {},
   "outputs": [
    {
     "data": {
      "text/plain": [
       "0.9992349648579181"
      ]
     },
     "execution_count": 47,
     "metadata": {},
     "output_type": "execute_result"
    }
   ],
   "source": [
    "accuracy = float(false_positive + true_positive)/float(true_positive + false_positive + false_negative + true_negative)\n",
    "accuracy"
   ]
  },
  {
   "cell_type": "markdown",
   "metadata": {},
   "source": [
    "### K- Nearest Neighbours\n",
    "k-NN is another algorithm commonly used for supervised classification problems. First introduced in 1951, the algorithm aims to identify homogeneous subgroups such that observations in the same group (clusters) are more similar to each other than others. Each data points' k-closest neighbors are found by calculating Euclidean or Hamming distance and grouped into clusters. The k-closest data points are then analyzed to determine which class label is the most common among the set. The most common class is then classified to the data point being tested. For k-NN classification, an input is classified by a majority vote of its neighbors. That is, the algorithm obtains the classification of its k neighbors and outputs the class that represents a majority of the k neighbors."
   ]
  },
  {
   "cell_type": "code",
   "execution_count": 48,
   "metadata": {},
   "outputs": [
    {
     "name": "stdout",
     "output_type": "stream",
     "text": [
      "KNN Accuracy:  0.8864231776853136\n"
     ]
    },
    {
     "data": {
      "image/png": "[encoded data removed]",
      "text/plain": [
       "<Figure size 432x288 with 1 Axes>"
      ]
     },
     "metadata": {
      "needs_background": "light"
     },
     "output_type": "display_data"
    }
   ],
   "source": [
    "from sklearn.neighbors import KNeighborsClassifier\n",
    "from sklearn.metrics import confusion_matrix\n",
    "from sklearn import metrics\n",
    "from sklearn.model_selection import train_test_split\n",
    "from sklearn.preprocessing import StandardScaler\n",
    "scaler = StandardScaler()\n",
    "\n",
    "data = pd.read_csv('gtd_data.csv')\n",
    "data.head()\n",
    "data.success.value_counts()\n",
    "sns.countplot(x=\"success\", data=data, palette=\"bwr\")\n",
    "#plt.show()\n",
    "\n",
    "sns.countplot(x='success', data=data, palette=\"mako_r\")\n",
    "plt.xlabel(\"Target Success (0 = Failed, 1= Success)\")\n",
    "#plt.show()\n",
    "\n",
    "'''\n",
    "plt.scatter(x=data.success[data.success==1], y=data.success[(data.success==1)], c=\"green\")\n",
    "plt.scatter(x=data.success[data.success==0], y=data.success[(data.success==0)], c = 'black')\n",
    "plt.legend([\"Attack\", \"Not Attack\"])\n",
    "plt.xlabel(\"Success\")\n",
    "plt.ylabel(\"Maximum Heart Rate\")\n",
    "plt.show()'''\n",
    "\n",
    "\n",
    "\n",
    "X_train, X_test, y_train, y_test =  train_test_split(features, target,test_size = 0.25, random_state= 0)\n",
    "sc_X = StandardScaler()\n",
    "X_train = sc_X.fit_transform(X_train)\n",
    "X_test = sc_X.transform(X_test)\n",
    "classifier = KNeighborsClassifier(n_neighbors = 5, metric = 'minkowski', p = 2)\n",
    "classifier = classifier.fit(X_train,y_train)\n",
    "y_pred = classifier.predict(X_test)\n",
    "#check accuracy\n",
    "accuracy = metrics.accuracy_score(y_test, y_pred)\n",
    "print('KNN Accuracy: ',accuracy)"
   ]
  },
  {
   "cell_type": "markdown",
   "metadata": {},
   "source": [
    "### Linear Discriminant Analysis\n",
    "LDA is also based on Bayes’ Theorem. But instead of directly calculating posterior probability, it estimates multivariate distribution of its distribution. If we see its mathematical aspect, the algorithm does training by first setting the linear combination of predictors (features) that is helpful in separating different classes. The predicted class is classified by detecting the training samples which falls into linear decision boundaries. The advantage of LDA is it always produces an explicit solution and is feasible due to its low-dimensionality, but suffers from the assumption that linear separability is achievable in all classifications."
   ]
  },
  {
   "cell_type": "code",
   "execution_count": 49,
   "metadata": {},
   "outputs": [
    {
     "name": "stdout",
     "output_type": "stream",
     "text": [
      "Linear Discriminant Analysis Accuracy  0.8907132897923241\n"
     ]
    }
   ],
   "source": [
    "from sklearn.discriminant_analysis import LinearDiscriminantAnalysis\n",
    "from sklearn.tree import DecisionTreeClassifier\n",
    "lda = LinearDiscriminantAnalysis()\n",
    "regressor =  LinearDiscriminantAnalysis()\n",
    "X_train, X_test, y_train, y_test = train_test_split(features, target, test_size = 0.3, random_state = 100) \n",
    "regressor.fit(X_train, y_train)\n",
    "y_pred = regressor.predict(X_test)\n",
    "#print(\"Confusion Matrix: \",confusion_matrix(y_pred.round(),y_test))\n",
    "accuracy = metrics.accuracy_score( y_pred.round(),y_test)\n",
    "print(\"Linear Discriminant Analysis Accuracy \",accuracy)\n"
   ]
  },
  {
   "cell_type": "markdown",
   "metadata": {},
   "source": [
    "# Decision Trees:¶\n",
    "Decision trees classifiers applies questions and conditions in a tree structure. This approach applies decision rules inferred from the data features to predict the value of target variable and create model accordingly. The condition for categorization is included in the root and internal nodes. Inputs are entered at the top and tree is traversed down, following the branches. Once the input node reaches the terminal node, a class is assigned. The advantage of decision trees is that they can be easily visualized and they can easily handle continuous and discrete data. When the training set is small in comparison with the number of classes, it also leads to higher classification error rate, hence causing overfitting."
   ]
  },
  {
   "cell_type": "code",
   "execution_count": 50,
   "metadata": {},
   "outputs": [
    {
     "name": "stdout",
     "output_type": "stream",
     "text": [
      "Decision Tree Accuracy  0.8895208042856094\n"
     ]
    }
   ],
   "source": [
    "import numpy as np\n",
    "import matplotlib.pyplot as plt\n",
    "import pandas as pd\n",
    "from sklearn.model_selection import train_test_split \n",
    "from sklearn.metrics import accuracy_score \n",
    "from sklearn.metrics import confusion_matrix\n",
    "gtd_data = pd.read_csv('gtd_data.csv')\n",
    "gtd_data.dropna(axis='columns')\n",
    "cols = gtd_data.columns\n",
    "#print(type(cols))\n",
    "train_cols = cols.drop([ 'eventid', 'iyear', 'imonth', 'iday', 'extended', 'country',\n",
    "       'country_txt', 'region', 'region_txt', 'provstate', 'city', 'latitude',\n",
    "       'longitude', 'specificity', 'vicinity', 'summary', 'crit1', 'crit2',\n",
    "       'crit3', 'doubtterr', 'multiple',  'suicide', 'attacktype1',\n",
    "       'attacktype1_txt', 'targtype1', 'targtype1_txt', 'targsubtype1',\n",
    "       'targsubtype1_txt', 'corp1', 'target1', 'natlty1', 'natlty1_txt',\n",
    "       'gname', 'guncertain1', 'individual', 'nperps', 'nperpcap', 'claimed',\n",
    "       'weaptype1', 'weaptype1_txt', 'weapsubtype1', 'weapsubtype1_txt',\n",
    "       'weapdetail',\n",
    "       'nwoundte', 'property', 'ishostkid', 'dbsource', 'INT_LOG', 'INT_IDEO',\n",
    "       'INT_MISC', 'INT_ANY'])\n",
    "features = gtd_data[train_cols]\n",
    "target = []\n",
    "ans = features['success']\n",
    "for val in ans==1:\n",
    "   \n",
    "    if val==True:\n",
    "        target.append(int(True))\n",
    "    else:\n",
    "        target.append(int(False))\n",
    " \n",
    "\n",
    "\n",
    "\n",
    "#gtd_data = gtd_data.replace(status_replace)\n",
    "features = features.iloc[:, [1,2,3,4]]\n",
    "features.dropna(axis='columns')\n",
    "features = features.replace(0,np.NaN)\n",
    "features = features.fillna(0)\n",
    "\n",
    "# Fitting Decision Tree Regression to the dataset\n",
    "from sklearn.tree import DecisionTreeRegressor\n",
    "regressor = DecisionTreeRegressor(random_state = 0)\n",
    "X_train, X_test, y_train, y_test = train_test_split(features, target, test_size = 0.3, random_state = 100) \n",
    "\n",
    "#print(len(X_train),\" = \",len(y_train))\n",
    "regressor.fit(X_train, y_train)\n",
    "\n",
    "# Predicting a new result\n",
    "y_pred = regressor.predict(X_test)\n",
    "#print(\"Confusion Matrix: \",confusion_matrix(y_pred.round(),y_test))\n",
    "#print(type(y_pred.round()),type(y_test))\n",
    "accuracy = accuracy_score( y_pred.round(),y_test)\n",
    "print(\"Decision Tree Accuracy \",accuracy)\n"
   ]
  },
  {
   "cell_type": "markdown",
   "metadata": {},
   "source": [
    "# Support Vector Machines\n",
    "Support Vector Machines: In machine learning, they basically comes under the category of supervised learning which analyze data used for classification and regression analysis. SVM model is a representation of points in space, mapped properly so that the categories get divided by a wide gap. If new examples are mapped, then they fall accordingly into the right side of the gap."
   ]
  },
  {
   "cell_type": "code",
   "execution_count": 51,
   "metadata": {},
   "outputs": [
    {
     "name": "stdout",
     "output_type": "stream",
     "text": [
      "Support Vector Machine Accuracy  0.8899060688339326\n"
     ]
    }
   ],
   "source": [
    "from sklearn import svm\n",
    "regressor = svm.SVC()\n",
    "X_train, X_test, y_train, y_test = train_test_split(features, target, test_size = 0.3, random_state = 5) \n",
    "regressor.fit(X_train, y_train)\n",
    "y_pred = regressor.predict(X_test)\n",
    "#print(\"Confusion Matrix: \",confusion_matrix(y_pred.round(),y_test))\n",
    "accuracy = accuracy_score( y_pred.round(),y_test)\n",
    "print(\"Support Vector Machine Accuracy \",accuracy)\n"
   ]
  },
  {
   "cell_type": "code",
   "execution_count": null,
   "metadata": {},
   "outputs": [],
   "source": []
  }
 ],
 "metadata": {
  "kernelspec": {
   "display_name": "Python 3",
   "language": "python",
   "name": "python3"
  },
  "language_info": {
   "codemirror_mode": {
    "name": "ipython",
    "version": 3
   },
   "file_extension": ".py",
   "mimetype": "text/x-python",
   "name": "python",
   "nbconvert_exporter": "python",
   "pygments_lexer": "ipython3",
   "version": "3.8.3"
  }
 },
 "nbformat": 4,
 "nbformat_minor": 4
}
